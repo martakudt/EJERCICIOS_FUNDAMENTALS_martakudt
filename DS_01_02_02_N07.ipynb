{
 "cells": [
  {
   "cell_type": "markdown",
   "metadata": {
    "id": "liorA-1ZSU4y"
   },
   "source": [
    "# Ejercicios Clases y Objetos"
   ]
  },
  {
   "cell_type": "markdown",
   "metadata": {
    "id": "5xXUz5l9SU4z"
   },
   "source": [
    "## Ejercicio 1\n",
    "Somos una empresa que tiene varias tiendas de electrodomesticos. Necesitamos un programa para manejar las tiendas, ver las ventas que han tenido, cuántos empleados hay, etc... Para ello vamos a modelizar la tienda en una clase, que tendrá las siguientes características:\n",
    "* Nombre clase: \"Tienda\"\n",
    "* Atributos comunes:\n",
    "    * Tipo: \"Electrodomésticos\"\n",
    "    * Abierta: True\n",
    "* Atributos propios de cada tienda:\n",
    "    * Nombre - String\n",
    "    * Dirección - String\n",
    "    * Número de empleados - int\n",
    "    * Ventas ultimos 3 meses - Lista de 3 numeros\n",
    "* Método para calcular las ventas de todos los meses, que devuelva un numero con todas las ventas.\n",
    "* Método que calcula la media de ventas de los ultimos meses, por empleado\n",
    "* Método que devuelve en un string el nombre de la tienda, junto con su dirección.\n",
    "* Método que obtiene las ventas del último mes.\n",
    "* Método para dar una proyección de las ventas en caso de haber invertido X dinero en marketing en esa tienda. Siendo X el parámetro de entrada. Si X es menor de 1000, las ventas de los ultimos 3 meses hubiesen sido de (1.2 x ventas), si es mayor o igual de 1000, las ventas hubiesen sido de (1.5 x venta). El método reescribe el atributo de ventas en los últimos 3 meses, y además devuelve las ventas con el aumento.\n",
    "\n",
    "Se pide:\n",
    "1. Implementar la clase \"Tienda\"\n",
    "2. Crear tres tiendas con datos inventados\n",
    "3. Comprueba en al menos una de ellas, todo lo implementado en la clase tienda (sus atributos, media de ventas, ventas/empleado...)\n",
    "3. Calcular las ventas del último mes de todas las tiendas. Para ello usa el bucle `for`\n",
    "4. Imprime por pantalla los nombres de las tiendas cuya dirección lleve el string \"Avenida\"\n",
    "5. Seguro que ya has hecho este apartado... Documenta la clase :)"
   ]
  },
  {
   "cell_type": "code",
   "execution_count": 11,
   "metadata": {
    "id": "5cLQcLxfSU4z"
   },
   "outputs": [],
   "source": [
    "class Tienda:\n",
    "    # Atributos comunes\n",
    "    tipo = \"Electrodomésticos\"\n",
    "    abierta = True\n",
    "    \n",
    "    # Atributos propios de cada tienda\n",
    "    def __init__(self, nombre, direccion,num_empleados,ventas_3meses):\n",
    "        self.nombre = nombre\n",
    "        self.direccion = direccion\n",
    "        self.empleados = num_empleados\n",
    "        self.ventas = ventas_3meses\n",
    "\n",
    "    # Método para calcular las ventas de todos los meses\n",
    "    def total_ventas(self):\n",
    "        return sum(self.ventas)\n",
    "\n",
    "    # Método que calcula la media de ventas de los ultimos meses, por empleado\n",
    "    def media_ventas(self):\n",
    "        total_ventas = self.total_ventas()\n",
    "        if self.empleados > 0:\n",
    "            return total_ventas/self.empleados\n",
    "        else:\n",
    "            print(\"Error: No hay empleados en la tienda.\")\n",
    "        \n",
    "    # Método que devuelve en un string el nombre de la tienda + dirección\n",
    "    def nombre_y_direccion(self):\n",
    "        return print(\"El nombre de la tienda es\", self.nombre, \"y su dirección\", self.direccion)\n",
    "\n",
    "    # Método que obtiene las ventas del último mes\n",
    "    def ventas_ultimo_mes(self):\n",
    "        return self.ventas[-1]\n",
    "\n",
    "    # Método marketing\n",
    "    def marketing(self, X):\n",
    "        if X < 1000:\n",
    "            aumento = 1.2*X\n",
    "        else:\n",
    "            aumento = 1.5*X\n",
    "        return aumento"
   ]
  },
  {
   "cell_type": "code",
   "execution_count": 16,
   "metadata": {},
   "outputs": [
    {
     "name": "stdout",
     "output_type": "stream",
     "text": [
      "El nombre de la tienda es ElectroLatino y su dirección Plaza Nueva 5\n",
      "Ventas totales en los últimos 3 meses:  150\n",
      "Media de ventas por empleado:  21.428571428571427\n",
      "Ventas del último mes:  55\n",
      "Inversión de 1200 en marketing:  1800.0\n",
      "Las ventas del último mes en ElectroLatino son de 55\n",
      "Las ventas del último mes en ElectroPop son de 76\n",
      "Las ventas del último mes en ElectroCumbia son de 60\n",
      "La tienda ElectroCumbia está en una Avenida.\n"
     ]
    }
   ],
   "source": [
    "# Implementamos la clase Tienda\n",
    "\n",
    "# Creamos las tres tiendas\n",
    "tienda_1 = Tienda(\"ElectroLatino\", \"Plaza Nueva 5\", 7, [35,60,55])\n",
    "tienda_2 = Tienda(\"ElectroPop\", \"Calle Calvario 2\", 5, [32,45,76])\n",
    "tienda_3 = Tienda(\"ElectroCumbia\", \"Avenida Banda de Música 43\", 6,[76,45,60])\n",
    "\n",
    "# Comprobamos lo implementado en la tienda 1\n",
    "tienda_1.nombre_y_direccion()\n",
    "print(\"Ventas totales en los últimos 3 meses: \", tienda_1.total_ventas())\n",
    "print(\"Media de ventas por empleado: \", tienda_1.media_ventas())\n",
    "print(\"Ventas del último mes: \", tienda_1.ventas_ultimo_mes())\n",
    "print(\"Inversión de 1200 en marketing: \", tienda_1.marketing(1200))\n",
    "\n",
    "# Calcular las ventas del último mes en todas las tiendas\n",
    "tiendas = [tienda_1,tienda_2,tienda_3]\n",
    "for tienda in tiendas:\n",
    "    print(\"Las ventas del último mes en\", tienda.nombre, \"son de\", tienda.ventas_ultimo_mes())\n",
    "\n",
    "# Nombres de las tiendas cuya dirección lleve \"Avenida\"\n",
    "for tienda in tiendas:\n",
    "    if \"Avenida\" in tienda.direccion:\n",
    "        print(\"La tienda\", tienda.nombre, \"está en una Avenida.\")"
   ]
  },
  {
   "cell_type": "markdown",
   "metadata": {
    "id": "WEBq7EpsSU40"
   },
   "source": [
    "## Ejercicio 2\n",
    "En este ejercicio vamos a implementar una clase *Perro* en Python. La clase tiene las siguientes características:\n",
    "* Cosas que sabemos seguro que tiene un perro\n",
    "    * Tiene 4 patas\n",
    "    * 2 orejas\n",
    "    * 2 ojos\n",
    "    * Una velocidad de 0. Por defecto, el perro está parado\n",
    "* Cuando se inicialice:\n",
    "    * El perro será de una determinada raza\n",
    "    * Por defecto tendrá pelo \"Marrón\", a no ser que se diga lo contrario.\n",
    "    * Por defecto no tendrá dueño, a no ser que se diga lo contrario.\n",
    "    \n",
    "* Dispondrá también de un método llamado andar, que tiene un argumento de entrada (aumento_velocidad). Este valor se le sumará a la velocidad que ya llevaba el perro.\n",
    "* Necesita otro método (parar), donde pondremos la velocidad a 0.\n",
    "* Otro método llamado \"ladrar\", que tendrá un argumento de entrada, y la salida será el siguiente string: \"GUAU!\" + el argumento de entrada.\n",
    "\n",
    "\n",
    "Se pide:\n",
    "* Implementa la clase *Perro*\n",
    "* Crea un objeto de tipo *Perro*, sin dueño\n",
    "* Comprueba que están bien todos sus atributos\n",
    "* Prueba que ande, y comprueba su velocidad\n",
    "* Páralo\n",
    "* Documenta la clase *Perro*"
   ]
  },
  {
   "cell_type": "code",
   "execution_count": 24,
   "metadata": {
    "id": "DpEWvbwGSU40"
   },
   "outputs": [],
   "source": [
    "class Perro:\n",
    "    # Atributos comunes\n",
    "    patas = 4\n",
    "    orejas = 2\n",
    "    ojos = 2\n",
    "    velocidad = 0\n",
    "\n",
    "    # Atributos propios\n",
    "    def __init__(self, raza, pelo = \"Marrón\", duenyo = False):\n",
    "        self.raza = raza\n",
    "        self.pelo = pelo\n",
    "        self.duenyo = duenyo\n",
    "\n",
    "    # Método andar\n",
    "    def andar(self, aumento_velocidad):\n",
    "        self.velocidad = self.velocidad + aumento_velocidad\n",
    "        return self.velocidad\n",
    "\n",
    "    # Método parar\n",
    "    def parar(self):\n",
    "        self.velocidad = 0\n",
    "        return self.velocidad\n",
    "\n",
    "    # Método ladrar\n",
    "    def ladrar(self, arg_entrada):\n",
    "        arg_salida = \"GUAU!\" + \" \" + arg_entrada\n",
    "        return arg_salida"
   ]
  },
  {
   "cell_type": "code",
   "execution_count": 26,
   "metadata": {},
   "outputs": [
    {
     "name": "stdout",
     "output_type": "stream",
     "text": [
      "Raza del perro: Pastor Alemán\n",
      "Color de pelo: Marrón\n",
      "Tiene dueño: False\n",
      "Número de patas: 4\n",
      "Número de orejas: 2\n",
      "Número de ojos: 2\n",
      "Velocidad inicial: 0\n",
      "Velocidad después de andar: 34\n",
      "Velocidad después de parar: 0\n"
     ]
    }
   ],
   "source": [
    "# Implementamos la clase Perro\n",
    "\n",
    "# Crea un objeto de tipo Perro\n",
    "perro = Perro(raza = \"Pastor Alemán\")\n",
    "\n",
    "# Comprueba que están bien todos sus atributos\n",
    "print(\"Raza del perro:\", perro.raza)\n",
    "print(\"Color de pelo:\", perro.pelo)\n",
    "print(\"Tiene dueño:\", perro.duenyo)\n",
    "print(\"Número de patas:\", perro.patas)\n",
    "print(\"Número de orejas:\", perro.orejas)\n",
    "print(\"Número de ojos:\", perro.ojos)\n",
    "print(\"Velocidad inicial:\", perro.velocidad)\n",
    "\n",
    "# Prueba que ande, y comprueba su velocidad\n",
    "perro.andar(34)\n",
    "print(\"Velocidad después de andar:\", perro.velocidad)\n",
    "\n",
    "# Páralo\n",
    "perro.parar()\n",
    "print(\"Velocidad después de parar:\", perro.velocidad)"
   ]
  }
 ],
 "metadata": {
  "colab": {
   "provenance": []
  },
  "kernelspec": {
   "display_name": "Python 3 (ipykernel)",
   "language": "python",
   "name": "python3"
  },
  "language_info": {
   "codemirror_mode": {
    "name": "ipython",
    "version": 3
   },
   "file_extension": ".py",
   "mimetype": "text/x-python",
   "name": "python",
   "nbconvert_exporter": "python",
   "pygments_lexer": "ipython3",
   "version": "3.11.7"
  }
 },
 "nbformat": 4,
 "nbformat_minor": 4
}
